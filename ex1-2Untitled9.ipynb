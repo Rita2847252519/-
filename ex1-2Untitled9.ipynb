{
 "cells": [
  {
   "cell_type": "code",
   "execution_count": 1,
   "metadata": {},
   "outputs": [
    {
     "name": "stdout",
     "output_type": "stream",
     "text": [
      "请输入金钱的符号:d\n",
      "请输入金钱的数值9\n",
      "转换后的温度是54Y\n"
     ]
    }
   ],
   "source": [
    "a=input(\"请输入金钱的符号:\")\n",
    "TempStr=eval(input(\"请输入金钱的数值\"))\n",
    "if a in ['Y','y']:\n",
    "    D=int(TempStr/6)\n",
    "    print(\"转换后的金钱是{:2f}D\".format(D))\n",
    "elif a in ['D','d']:\n",
    "    Y=int(TempStr*6)\n",
    "    print(\"转换后的温度是{:d}Y\".format(Y))\n",
    "else:\n",
    "    print(\"输入格式错误\")"
   ]
  },
  {
   "cell_type": "code",
   "execution_count": null,
   "metadata": {},
   "outputs": [],
   "source": []
  },
  {
   "cell_type": "code",
   "execution_count": null,
   "metadata": {},
   "outputs": [],
   "source": []
  }
 ],
 "metadata": {
  "kernelspec": {
   "display_name": "Python 3",
   "language": "python",
   "name": "python3"
  },
  "language_info": {
   "codemirror_mode": {
    "name": "ipython",
    "version": 3
   },
   "file_extension": ".py",
   "mimetype": "text/x-python",
   "name": "python",
   "nbconvert_exporter": "python",
   "pygments_lexer": "ipython3",
   "version": "3.6.5"
  }
 },
 "nbformat": 4,
 "nbformat_minor": 2
}
