{
 "cells": [
  {
   "cell_type": "code",
   "execution_count": null,
   "metadata": {},
   "outputs": [],
   "source": [
    "import jieba\n",
    "import matplotlib.pyplot as plt\n",
    "from wordcloud import WordCloud, ImageColorGenerator\n",
    "import numpy as np\n",
    "import PIL.Image as Image\n",
    "\n",
    "def calWordFreqencies():\n",
    "    excludes = {\"将军\",\"却说\",\"丞相\"}\n",
    "    txt = open(\"三国演义.txt\", \"r\", encoding='utf-8').read()\n",
    "    words = jieba.lcut(txt)\n",
    "    counts = {}\n",
    "    for word in words:\n",
    "        if len(word) == 1:\n",
    "            continue\n",
    "        else:\n",
    "            counts[word] = counts.get(word, 0) + 1\n",
    "    for word in excludes:\n",
    "        del (counts[word])\n",
    "\n",
    "    return counts\n",
    "\n",
    "def drawWordcloudPlot(counts):\n",
    "    coloring = np.array(Image.open(\"E:/baidupic/alice_color.png\"))\n",
    "    wc = WordCloud(background_color=\"white\",\n",
    "                             max_words=2000,\n",
    "                             mask=coloring,\n",
    "                             max_font_size=60,\n",
    "                             random_state=42,\n",
    "                             scale=2,\n",
    "                             font_path=\"c:/Windows/Fonts/SimHei.ttf\")\n",
    "    wc.generate_from_frequencies(counts)\n",
    "    image_colors = ImageColorGenerator(coloring)\n",
    "\n",
    "    plt.imshow(wc)\n",
    "    plt.axis(\"off\")\n",
    "    plt.show()\n",
    "def main():\n",
    "    counts = calWordFreqencies()\n",
    "    drawWordcloudPlot(counts)\n",
    "\n",
    "main()"
   ]
  }
 ],
 "metadata": {
  "kernelspec": {
   "display_name": "Python 3",
   "language": "python",
   "name": "python3"
  },
  "language_info": {
   "codemirror_mode": {
    "name": "ipython",
    "version": 3
   },
   "file_extension": ".py",
   "mimetype": "text/x-python",
   "name": "python",
   "nbconvert_exporter": "python",
   "pygments_lexer": "ipython3",
   "version": "3.6.5"
  }
 },
 "nbformat": 4,
 "nbformat_minor": 2
}
