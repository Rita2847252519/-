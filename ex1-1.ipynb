{
 "cells": [
  {
   "cell_type": "code",
   "execution_count": 1,
   "metadata": {},
   "outputs": [
    {
     "name": "stdout",
     "output_type": "stream",
     "text": [
      "请输入温度的符号:f\n",
      "请输入温度的数值89\n",
      "转换后的温度是31C\n"
     ]
    }
   ],
   "source": [
    "a=input(\"请输入温度的符号:\")\n",
    "TempStr=eval(input(\"请输入温度的数值\"))\n",
    "if a in ['F','f']:\n",
    "    C=int((TempStr-32)/1.8)\n",
    "    print(\"转换后的温度是{:d}C\".format(C))\n",
    "elif a in ['C','c']:\n",
    "    F=int(1.8*TempStr+32)\n",
    "    print(\"转换后的温度是{:d}F\".format(F))\n",
    "else:\n",
    "    print(\"输入格式错误\")"
   ]
  },
  {
   "cell_type": "code",
   "execution_count": null,
   "metadata": {},
   "outputs": [],
   "source": []
  },
  {
   "cell_type": "code",
   "execution_count": null,
   "metadata": {},
   "outputs": [],
   "source": []
  }
 ],
 "metadata": {
  "kernelspec": {
   "display_name": "Python 3",
   "language": "python",
   "name": "python3"
  },
  "language_info": {
   "codemirror_mode": {
    "name": "ipython",
    "version": 3
   },
   "file_extension": ".py",
   "mimetype": "text/x-python",
   "name": "python",
   "nbconvert_exporter": "python",
   "pygments_lexer": "ipython3",
   "version": "3.6.5"
  }
 },
 "nbformat": 4,
 "nbformat_minor": 2
}
