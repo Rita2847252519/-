{
 "cells": [
  {
   "cell_type": "code",
   "execution_count": null,
   "metadata": {},
   "outputs": [],
   "source": [
    "from random import random \n",
    "def printIntro():\n",
    "    print(\"这个程序模拟两个选手A和B的某种竞技比赛\") \n",
    "    print(\"程序运行需要A和B的能力值（以0到1之间的小数表示）\") \n",
    "def getInputs():\n",
    "    a = eval(input(\"请输入选手A的能力值(0-1): \")) \n",
    "    b = eval(input(\"请输入选手B的能力值(0-1): \")) \n",
    "    n = eval(input(\"模拟比赛的场次: \")) \n",
    "    return a, b, n \n",
    "def simNGames(n, probA, probB):\n",
    "    winsA, winsB = 0, 0 \n",
    "    for i in range(n):\n",
    "        scoreA, scoreB = simOneGame(probA, probB) \n",
    "        if scoreA > scoreB:\n",
    "            winsA += 1 \n",
    "        else:\n",
    "            winsB += 1\n",
    "    return winsA, winsB \n",
    "def gameOver(a,b):\n",
    "    return a==11 or b==11 \n",
    "def simOneGame(probA, probB):\n",
    "    scoreA, scoreB = 0, 0 \n",
    "    serving = 0 \n",
    "    t = 0 \n",
    "    while not gameOver(scoreA, scoreB):\n",
    "        if serving == 0:\n",
    "            if random() < probA:\n",
    "                scoreA += 1 \n",
    "            else: \n",
    "                scoreB += 1 \n",
    "        else:\n",
    "            if random() < probB:\n",
    "                scoreB += 1 \n",
    "            else:\n",
    "                scoreA += 1 \n",
    "        t = t + 1 \n",
    "        if t%2 == 0:\n",
    "            serving = (serving + 1)%2\n",
    "    return scoreA, scoreB \n",
    "def printSummary(winsA, winsB):\n",
    "    n = winsA + winsB \n",
    "    print(\"竞技分析开始，共模拟{}场比赛\".format(n)) \n",
    "    print(\"选手A获胜{}场比赛，占比{:0.1%}\".format(winsA, winsA/n)) \n",
    "    print(\"选手B获胜{}场比赛，占比{:0.1%}\".format(winsB, winsB/n)) \n",
    "def main():\n",
    "    printIntro() \n",
    "    probA, probB, n = getInputs() \n",
    "    winsA, winsB = simNGames(n, probA, probB) \n",
    "    printSummary(winsA, winsB) \n",
    "main() \n"
   ]
  }
 ],
 "metadata": {
  "kernelspec": {
   "display_name": "Python 3",
   "language": "python",
   "name": "python3"
  },
  "language_info": {
   "codemirror_mode": {
    "name": "ipython",
    "version": 3
   },
   "file_extension": ".py",
   "mimetype": "text/x-python",
   "name": "python",
   "nbconvert_exporter": "python",
   "pygments_lexer": "ipython3",
   "version": "3.6.5"
  }
 },
 "nbformat": 4,
 "nbformat_minor": 2
}
