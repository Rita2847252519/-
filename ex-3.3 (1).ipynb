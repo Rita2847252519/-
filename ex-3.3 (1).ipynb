{
 "cells": [
  {
   "cell_type": "code",
   "execution_count": 6,
   "metadata": {},
   "outputs": [
    {
     "name": "stdout",
     "output_type": "stream",
     "text": [
      "连续学习3天能力值不变，从第4天至第7天每天能力增长为前一天1%，每10天休息一天的能力值:4.27.\n"
     ]
    }
   ],
   "source": [
    "dayup, dayfactor = 1.0, 0.01\n",
    "for i in range(1,366):\n",
    "    if i % 10 in [4,5,6,7]:\n",
    "        dayup=dayup*(1+dayfactor)\n",
    "print(\"连续学习3天能力值不变，从第4天至第7天每天能力增长为前一天1%，每10天休息一天的能力值:{:.2f}.\".format(dayup))\n",
    "   "
   ]
  },
  {
   "cell_type": "code",
   "execution_count": 7,
   "metadata": {},
   "outputs": [
    {
     "name": "stdout",
     "output_type": "stream",
     "text": [
      "连续学习3天能力值不变，从第4天至第7天每天能力增长为前一天1%，每15天休息一天的能力值:2.65.\n"
     ]
    }
   ],
   "source": [
    "dayup, dayfactor = 1.0, 0.01\n",
    "for i in range(1,366):\n",
    "    if i % 15 in [4,5,6,7]:\n",
    "        dayup=dayup*(1+dayfactor)\n",
    "print(\"连续学习3天能力值不变，从第4天至第7天每天能力增长为前一天1%，每15天休息一天的能力值:{:.2f}.\".format(dayup))"
   ]
  },
  {
   "cell_type": "code",
   "execution_count": null,
   "metadata": {},
   "outputs": [],
   "source": []
  }
 ],
 "metadata": {
  "kernelspec": {
   "display_name": "Python 3",
   "language": "python",
   "name": "python3"
  },
  "language_info": {
   "codemirror_mode": {
    "name": "ipython",
    "version": 3
   },
   "file_extension": ".py",
   "mimetype": "text/x-python",
   "name": "python",
   "nbconvert_exporter": "python",
   "pygments_lexer": "ipython3",
   "version": "3.6.5"
  }
 },
 "nbformat": 4,
 "nbformat_minor": 2
}
