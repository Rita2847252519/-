{
 "cells": [
  {
   "cell_type": "code",
   "execution_count": null,
   "metadata": {},
   "outputs": [],
   "source": [
    "import os \n",
    "\n",
    "def userOperateInterface():\n",
    "    print(\"\\n请选择词典功能\") \n",
    "    print(\"i: 添加单词\") \n",
    "    print(\"s: 查询单词\") \n",
    "    print(\"Q: 退出词典\") \n",
    "    print(\"请选择功能：\") \n",
    "    return input() \n",
    "\n",
    "def addWord(wordDict:dict, fileName):\n",
    "    str = input(\"您输入要加入的单词：\") \n",
    "    if str in wordDict.keys():\n",
    "        print(\"该单词已添加到字典库\\n\") \n",
    "        userOperateInterface() \n",
    "    else:\n",
    "        t = input(\"请输入此单词的中文释义：\") \n",
    "        wordDict[str] = t \n",
    "        with open(fileName, 'a') as fw:\n",
    "            fw.write(str + \"  \" + t + '\\n')\n",
    "\n",
    "def selectWord(wordDict:dict):\n",
    "    str = input(\"请输入您要查询的单词：\") \n",
    "    if str not in wordDict.keys():\n",
    "        print(\"字典库中未找到这个单词\\n\") \n",
    "    else:\n",
    "        print(wordDict[str]) \n",
    "\n",
    "        \n",
    "def main():\n",
    "    wordDict = {} \n",
    "    if os.path.exists(\"dict.txt\"):\n",
    "        with open(\"dict.txt\", 'r') as fr:\n",
    "            for ln in fr:\n",
    "                s = ln.split(\" \") \n",
    "                wordDict[s[0]] = s[1] \n",
    "    else:\n",
    "        fw = open(\"dict.txt\",'w') \n",
    "        fw.close() \n",
    "    print(\"******欢迎使用简明英汉词典******\") \n",
    "    while True:\n",
    "        op = userOperateInterface() \n",
    "        if op == 'i':\n",
    "            addWord(wordDict, 'dict.txt') \n",
    "        elif op == 's': \n",
    "            selectWord(wordDict) \n",
    "        elif op == 'Q': \n",
    "            break \n",
    "        else: \n",
    "            print(\"输入有误\\n\") \n",
    "\n",
    "            \n",
    "main() \n"
   ]
  }
 ],
 "metadata": {
  "kernelspec": {
   "display_name": "Python 3",
   "language": "python",
   "name": "python3"
  },
  "language_info": {
   "codemirror_mode": {
    "name": "ipython",
    "version": 3
   },
   "file_extension": ".py",
   "mimetype": "text/x-python",
   "name": "python",
   "nbconvert_exporter": "python",
   "pygments_lexer": "ipython3",
   "version": "3.6.5"
  }
 },
 "nbformat": 4,
 "nbformat_minor": 2
}
