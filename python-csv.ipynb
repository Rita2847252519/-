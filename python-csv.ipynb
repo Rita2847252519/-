{
 "cells": [
  {
   "cell_type": "code",
   "execution_count": null,
   "metadata": {},
   "outputs": [],
   "source": [
    "fo = open(\"d:/score.csv\",\"r\")\n",
    "ls = []\n",
    "for line in fo:\n",
    "    line = line.replace(\"\\n\",\"\")\n",
    "    ls.append(line.split(\",\"))\n",
    "print(ls)\n",
    "fo.close()\n",
    "className = ls[0][1:]\n",
    "avg = [0,0,0,0]\n",
    "Ymax = [0,0,0,0]\n",
    "Ymin = [0,100,100,100]\n",
    "Sum = [0,0,0,0,0,0]\n",
    "e=1\n",
    "\n",
    "for s in ls[1:]:\n",
    "    for i in range(1,4):\n",
    "        avg[i] = avg[i]+eval(s[i])\n",
    "        if eval(s[i]) > Ymax[i]:\n",
    "            Ymax[i] = eval(s[i])\n",
    "        elif eval(s[i]) < Ymin[i]:\n",
    "             Ymin[i]  = eval(s[i])\n",
    "        Sum[e] = Sum[e]+eval(s[i])\n",
    "    e=e+1\n",
    "for i in range(1,4):\n",
    "    avg[i] = avg[i]/(len(ls)-1)\n",
    "for i in range(3):\n",
    "    print(\"{}的最高分是:{},最低分是:{},平均分是:{}\".format(className[i],Ymax[i+1],Ymin[i+1],avg[i+1]))\n",
    "    \n",
    "ls[0].append(\"总分\")\n",
    "for i in range(1,6):\n",
    "    ls[i].append(str(Sum[i]))\n",
    "\n",
    "fw = open(\"newscore.csv\",\"w\")\n",
    "for row in ls:\n",
    "    print(row)\n",
    "    fw.write(\",\".join(row)+\"\\n\")\n",
    "fw.close()\n"
   ]
  }
 ],
 "metadata": {
  "kernelspec": {
   "display_name": "Python 3",
   "language": "python",
   "name": "python3"
  },
  "language_info": {
   "codemirror_mode": {
    "name": "ipython",
    "version": 3
   },
   "file_extension": ".py",
   "mimetype": "text/x-python",
   "name": "python",
   "nbconvert_exporter": "python",
   "pygments_lexer": "ipython3",
   "version": "3.6.5"
  }
 },
 "nbformat": 4,
 "nbformat_minor": 2
}
