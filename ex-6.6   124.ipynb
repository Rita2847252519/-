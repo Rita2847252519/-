{
 "cells": [
  {
   "cell_type": "code",
   "execution_count": null,
   "metadata": {},
   "outputs": [],
   "source": []
  },
  {
   "cell_type": "code",
   "execution_count": null,
   "metadata": {},
   "outputs": [],
   "source": [
    "import jieba \n",
    " \n",
    "excludes = {'什么','一个','我们','你们','如今','说道','老太太','知道','姑娘','起来', \n",
    "              '这里','出来','众人','那里','奶奶','自己','太太','一面','只见','两个', \n",
    "             '没有','怎么','不是','这个','听见','这样','进来','咱们','就是','不知', \n",
    "             '东西','告诉','回来','只是','大家','老爷','只得','丫头','这些','他们', \n",
    "             '不敢','出去','所以','不过','不好','姐姐','的话','一时','过来' \n",
    "             } \n",
    "\n",
    "\n",
    "txt = open('红楼梦.txt','r', encoding='GB18030').read() \n",
    "words = jieba.lcut_for_search(txt) \n",
    "counts = {} \n",
    "for word in words: \n",
    "    if len(word) == 1: \n",
    "          continue \n",
    "    elif word == '凤姐' or word == '熙凤': \n",
    "         rword = '凤姐' \n",
    "    elif word == '元春' or word == '贵妃': \n",
    "          rword = '元春' \n",
    "    else: \n",
    "          rword = word \n",
    "    counts[rword] = counts.get(rword,0) + 1 \n",
    "\n",
    "    for word in excludes: \n",
    "        del(counts[word])    \n",
    "        \n",
    "    items = list(counts.items()) \n",
    "    items.sort(key=lambda x: x[1], reverse = True) \n",
    "    for i in range(50): \n",
    "        word, count = items[i] \n",
    "        print(\"{0:<10}{1:>5}\".format(word, count)) \n"
   ]
  }
 ],
 "metadata": {
  "kernelspec": {
   "display_name": "Python 3",
   "language": "python",
   "name": "python3"
  },
  "language_info": {
   "codemirror_mode": {
    "name": "ipython",
    "version": 3
   },
   "file_extension": ".py",
   "mimetype": "text/x-python",
   "name": "python",
   "nbconvert_exporter": "python",
   "pygments_lexer": "ipython3",
   "version": "3.6.5"
  }
 },
 "nbformat": 4,
 "nbformat_minor": 2
}
